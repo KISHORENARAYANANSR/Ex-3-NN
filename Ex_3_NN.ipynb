{
  "cells": [
    {
      "cell_type": "code",
      "execution_count": 1,
      "metadata": {
        "id": "MZG_RTqqp70l"
      },
      "outputs": [],
      "source": [
        "import numpy as np\n",
        "import pandas as pd\n",
        "import io\n",
        "import matplotlib.pyplot as plt"
      ]
    },
    {
      "cell_type": "code",
      "execution_count": 2,
      "metadata": {
        "id": "SnpXUIzjp70n"
      },
      "outputs": [],
      "source": [
        "# Initialize the input vector and output vector for XOR\n",
        "x=np.array([[0,0,1,1],[0,1,0,1]])\n",
        "y=np.array([[0,1,1,0]])"
      ]
    },
    {
      "cell_type": "code",
      "execution_count": 3,
      "metadata": {
        "id": "AWqd0Q04p70o"
      },
      "outputs": [],
      "source": [
        "#Initialize the structure of  MLP with input ,hidden  and output layer\n",
        "n_x = 2\n",
        "n_y = 1\n",
        "n_h = 2\n",
        "m = x.shape[1]\n",
        "lr = 0.1"
      ]
    },
    {
      "cell_type": "code",
      "execution_count": 4,
      "metadata": {
        "id": "7T8Ws81Mp70o"
      },
      "outputs": [],
      "source": [
        "w1 = np.random.rand(n_h,n_x)   # Weight matrix for hidden layer\n",
        "w2 = np.random.rand(n_y,n_h)  # Weight matrix for output layer"
      ]
    },
    {
      "cell_type": "code",
      "execution_count": 5,
      "metadata": {
        "id": "2FCEmhuxp70p"
      },
      "outputs": [],
      "source": [
        "losses = []\n",
        "\n",
        "def sigmoid(z):\n",
        "\n",
        "  z=1/(1+np.exp(-z))\n",
        "\n",
        "  return z"
      ]
    },
    {
      "cell_type": "code",
      "execution_count": 6,
      "metadata": {
        "id": "rg8wjzj3p70p"
      },
      "outputs": [],
      "source": [
        "def forward_prop(w1,w2,x):\n",
        "    z1 = np.dot(w1,x)\n",
        "    a1 = sigmoid(z1)\n",
        "    z2 = np.dot(w2,a1)\n",
        "    a2 = sigmoid(z2)\n",
        "    return z1,a1,z2,a2"
      ]
    },
    {
      "cell_type": "code",
      "execution_count": 8,
      "metadata": {
        "id": "9YMXVz_hp70p"
      },
      "outputs": [],
      "source": [
        "def back_prop(m,w1,w2,z1,a1,z2,a2,y):\n",
        "\n",
        "    dz2 = a2-y\n",
        "\n",
        "    dw2 = np.dot(dz2,a1.T)/m\n",
        "\n",
        "    dz1 = np.dot(w2.T,dz2) * a1*(1-a1)\n",
        "\n",
        "    dw1 = np.dot(dz1,x.T)/m\n",
        "\n",
        "    dw1 = np.reshape(dw1,w1.shape)\n",
        "\n",
        "    dw2 = np.reshape(dw2,w2.shape)\n",
        "\n",
        "    return dz2,dw2,dz1,dw1"
      ]
    },
    {
      "cell_type": "code",
      "execution_count": 10,
      "metadata": {
        "id": "dLgZoBwEp70p"
      },
      "outputs": [],
      "source": [
        "iterations = 10000\n",
        "\n",
        "for i in range(iterations):\n",
        "\n",
        "  z1,a1,z2,a2 = forward_prop(w1,w2,x)\n",
        "\n",
        "  loss = -(1/m)*np.sum(y*np.log(a2)+(1-y)*np.log(1-a2))\n",
        "\n",
        "  losses.append(loss)\n",
        "\n",
        "  da2,dw2,dz1,dw1 = back_prop(m,w1,w2,z1,a1,z2,a2,y)\n",
        "\n",
        "  w2 = w2-lr*dw2\n",
        "\n",
        "  w1 = w1-lr*dw1"
      ]
    },
    {
      "cell_type": "code",
      "execution_count": 11,
      "metadata": {
        "colab": {
          "base_uri": "https://localhost:8080/",
          "height": 466
        },
        "id": "lpHCRDOZp70q",
        "outputId": "c92738be-08df-4d99-8f10-9f776f98e512"
      },
      "outputs": [
        {
          "output_type": "execute_result",
          "data": {
            "text/plain": [
              "Text(0, 0.5, 'Loss value')"
            ]
          },
          "metadata": {},
          "execution_count": 11
        },
        {
          "output_type": "display_data",
          "data": {
            "text/plain": [
              "<Figure size 640x480 with 1 Axes>"
            ],
            "image/png": "[encoded data removed]"
          },
          "metadata": {}
        }
      ],
      "source": [
        "# plot losses to see how our network is doing\n",
        "plt.plot(losses)\n",
        "plt.xlabel(\"EPOCHS\")\n",
        "plt.ylabel(\"Loss value\")"
      ]
    },
    {
      "cell_type": "code",
      "execution_count": 14,
      "metadata": {
        "colab": {
          "base_uri": "https://localhost:8080/"
        },
        "id": "tTINfm8Qp70q",
        "outputId": "3a97311f-2b0e-4a4f-a29b-6600c586bf23"
      },
      "outputs": [
        {
          "output_type": "stream",
          "name": "stdout",
          "text": [
            "Input  Output\n",
            "[np.int64(1), np.int64(0)] 1\n",
            "[np.int64(1), np.int64(1)] 1\n",
            "[np.int64(0), np.int64(1)] 1\n",
            "[np.int64(0), np.int64(0)] 0\n"
          ]
        }
      ],
      "source": [
        "def predict(w1,w2,input):\n",
        "\n",
        "    z1,a1,z2,a2 = forward_prop(w1,w2,test)\n",
        "\n",
        "    a2 = np.squeeze(a2)\n",
        "\n",
        "    if a2>=0.5:\n",
        "\n",
        "        print( [i[0] for i in input], 1)\n",
        "\n",
        "    else:\n",
        "\n",
        "        print( [i[0] for i in input], 0)\n",
        "\n",
        "print('Input',' Output')\n",
        "\n",
        "test=np.array([[1],[0]])\n",
        "\n",
        "predict(w1,w2,test)\n",
        "\n",
        "test=np.array([[1],[1]])\n",
        "\n",
        "predict(w1,w2,test)\n",
        "\n",
        "test=np.array([[0],[1]])\n",
        "\n",
        "predict(w1,w2,test)\n",
        "\n",
        "test=np.array([[0],[0]])\n",
        "\n",
        "predict(w1,w2,test)\n"
      ]
    }
  ],
  "metadata": {
    "kernelspec": {
      "display_name": "Python 3",
      "language": "python",
      "name": "python3"
    },
    "language_info": {
      "name": "python",
      "version": "3.10.6"
    },
    "colab": {
      "provenance": []
    }
  },
  "nbformat": 4,
  "nbformat_minor": 0
}